{
 "cells": [
  {
   "cell_type": "code",
   "execution_count": null,
   "metadata": {},
   "outputs": [],
   "source": [
    "from proj1_helpers import *\n",
    "import itertools\n",
    "%matplotlib inline\n",
    "import numpy as np\n",
    "import matplotlib.pyplot as plt\n",
    "%load_ext autoreload\n",
    "%autoreload 2"
   ]
  },
  {
   "cell_type": "markdown",
   "metadata": {},
   "source": [
    "## Load Data"
   ]
  },
  {
   "cell_type": "code",
   "execution_count": null,
   "metadata": {},
   "outputs": [],
   "source": [
    "(y_train, tx_train_raw, ids_train) = (np.array(x) for x in load_csv_data(\"data/train.csv\"))\n",
    "(y_test, tx_test_raw, ids_test) = (np.array(x) for x in load_csv_data(\"data/test.csv\"))"
   ]
  },
  {
   "cell_type": "markdown",
   "metadata": {},
   "source": [
    "## Clean Data"
   ]
  },
  {
   "cell_type": "code",
   "execution_count": null,
   "metadata": {},
   "outputs": [],
   "source": [
    "def remove_noisy_column(x):\n",
    "    \"\"\"Remove columns for which there are more -999 entries than normal entries\"\"\"\n",
    "    return np.array([i for i in x.T if (i == -999).sum() < (i != -999).sum()]).copy()"
   ]
  },
  {
   "cell_type": "code",
   "execution_count": null,
   "metadata": {},
   "outputs": [],
   "source": [
    "def replace_noise_entries(x):\n",
    "    \"\"\"Replace -999 by mean value of the column (mean computed without any -999)\"\"\"\n",
    "    col_means = [np.mean(col[col!= -999]) for col in x.T]\n",
    "    x_local = x.copy()\n",
    "    for i,col in enumerate(x_local.T):\n",
    "        col[col == -999] = col_means[i]\n",
    "    return x_local"
   ]
  },
  {
   "cell_type": "code",
   "execution_count": null,
   "metadata": {},
   "outputs": [],
   "source": [
    "def get_outliers(x, mean, std):\n",
    "    outlier_indices = np.zeros() \n",
    "    for feature in range(tx.shape[1]):\n",
    "        row_indices = np.where(np.absolute(tx[:,feature]-mean[feature]) > 3*std[feature])[0]\n",
    "        mask = np.in1d(row_indices, outlier_indices)\n",
    "        outlier_indices = np.hstack((outlier_indices, row_indices[np.where(~mask)[0]]))\n",
    "    \n",
    "    return outlier_indices.astype(int)"
   ]
  },
  {
   "cell_type": "markdown",
   "metadata": {},
   "source": [
    "## Test accuracy"
   ]
  },
  {
   "cell_type": "code",
   "execution_count": null,
   "metadata": {},
   "outputs": [],
   "source": [
    "def test_accuracy(w, x_test, y_test):\n",
    "    \"\"\"returns accuracy for a specific weight vector\"\"\"\n",
    "    predictions = predict_labels(w, x_test)\n",
    "    num_equal = (predictions == y_test).sum()\n",
    "    return num_equals/y_test.shape[0]"
   ]
  },
  {
   "cell_type": "markdown",
   "metadata": {},
   "source": [
    "## Feature augmentation"
   ]
  },
  {
   "cell_type": "code",
   "execution_count": null,
   "metadata": {},
   "outputs": [],
   "source": [
    "def augment(x, num_important, degree):\n",
    "\n",
    "    for i, line in enumerate(x):\n",
    "        ones = np.array([1])\n",
    "#         for val in itertools.combinations(line[:num_important], r=degree):\n",
    "#             print(val)\n",
    "#         comb = np.array([np.prod(val) for val in itertools.combinations(line[:num_important], r=degree)])\n",
    "        not_imp = np.array([line**d for d in range(2, degree+1)])\n",
    "        complete = np.concatenate((ones, line, comb, not_imp), axis=None)\n",
    "        print(ones, line, comb, not_imp, complete)\n",
    "        if i == 0:\n",
    "            new = np.zeros((x.shape[0], complete.shape[0]))\n",
    "        new[i] = complete\n",
    "    return new"
   ]
  },
  {
   "cell_type": "code",
   "execution_count": null,
   "metadata": {},
   "outputs": [],
   "source": [
    "t = np.array([[1,2,3,4],[2,2,2,2],[5,5,5,5], [3,2,3,2], [2,2,4,4]])\n",
    "# np.hstack()\n",
    "augment(t, 3, 3)\n",
    "# t2 = np.array([1,2,3,4,5])\n",
    "# print(np.power(t2, 2))\n"
   ]
  },
  {
   "cell_type": "code",
   "execution_count": null,
   "metadata": {},
   "outputs": [],
   "source": [
    "def MSE(y, tx, w):\n",
    "    return np.sum(np.power(y - np.dot(tx, w), 2)/(2*len(y)))  # MSE\n",
    "\n",
    "\n",
    "def MAE(y, tx, w):\n",
    "    return np.sum(np.abs(y - np.dot(tx, w)))/len(y)  # MAE\n",
    "\n",
    "\n",
    "def RMSE(y, tx, w):\n",
    "    return np.sqrt(2*MSE(y, tx, w))\n",
    "\n",
    "\n",
    "def compute_gradient(y, tx, w):\n",
    "    \"\"\"Compute the gradient.\"\"\"\n",
    "    e = y - tx.dot(w)\n",
    "    grad = -tx.T.dot(e)/len(y)\n",
    "    return grad\n",
    "\n",
    "\n",
    "def calculate_gradient_log(y, tx, w):\n",
    "    \"\"\"compute the gradient of loss.\"\"\"\n",
    "    pred = sigmoid(tx.dot(w))\n",
    "    grad = tx.T.dot(pred - y)\n",
    "    return grad\n",
    "\n",
    "\n",
    "def sigmoid(t):\n",
    "    \"\"\"apply sigmoid function on t.\"\"\"\n",
    "    return 1/(1+np.exp(-t))\n",
    "\n",
    "\n",
    "def NLL(y, tx, w):\n",
    "    \"\"\"compute the cost by negative log likelihood.\"\"\"\n",
    "    pred = sigmoid(tx.dot(w))\n",
    "    loss = y.T.dot(np.log(pred)) + (1 - y).T.dot(np.log(1 - pred))\n",
    "    return np.squeeze(- loss)\n",
    "########################\n",
    "###### ASSIGNMENT ######\n",
    "########################\n",
    "\n",
    "\n",
    "def least_squares_GD(y, tx, initial_w, max_iters, gamma):\n",
    "    w = initial_w\n",
    "    for n_iter in range(max_iters):\n",
    "        grad = compute_gradient(y, tx, w)\n",
    "        loss = MSE(y, tx, w)\n",
    "        if n_iter % 100 == 0:\n",
    "            print(loss)\n",
    "        w = w - gamma*grad\n",
    "        # print(\"Step {}, loss is   {}\".format(n_iter, loss))\n",
    "    return (w, loss)\n",
    "\n",
    "\n",
    "def least_squares_SGD(y, tx, initial_w, max_iters, gamma):\n",
    "    weights = initial_w\n",
    "    for _ in range(max_iters):\n",
    "        rand_index = np.random.randint(y.shape)\n",
    "        y_batch, tx_batch = y[rand_index], tx[rand_index]\n",
    "        grad = compute_gradient(y_batch, tx_batch, weights)\n",
    "        weights = weights - gamma*grad\n",
    "    loss = MSE(y, tx, weights)\n",
    "    return (weights, loss)\n",
    "\n",
    "\n",
    "def least_squares(y, tx):\n",
    "    a = tx.T.dot(tx)\n",
    "    b = tx.T.dot(y)\n",
    "    w = np.linalg.solve(a, b)\n",
    "    loss = MSE(y, tx, w)\n",
    "    return (w, loss)\n",
    "\n",
    "\n",
    "def ridge_regression(y, tx, lambda_):\n",
    "    aI = 2 * tx.shape[0] * lambda_ * np.identity(tx.shape[1])\n",
    "    a = tx.T.dot(tx) + aI\n",
    "    b = tx.T.dot(y)\n",
    "    w = np.linalg.solve(a, b)\n",
    "    loss = MSE(y, tx, w)\n",
    "    return (w, loss)\n",
    "\n",
    "\n",
    "def reg_logistic_regression(y, tx, lambda_, initial_w, max_iters, gamma):\n",
    "    pass    \n"
   ]
  },
  {
   "cell_type": "code",
   "execution_count": null,
   "metadata": {},
   "outputs": [],
   "source": [
    "def logistic_regression(y, tx, initial_w, max_iters, gamma):\n",
    "    def sigmoid(t):\n",
    "        \"\"\"apply sigmoid function on t.\"\"\"\n",
    "        return 1/(1+np.exp(-t))\n",
    "\n",
    "    def calculate_gradient(gradient_y, gradient_tx, gradient_w):\n",
    "        \"\"\"compute the gradient of loss.\"\"\"\n",
    "        pred = sigmoid(gradient_tx.dot(gradient_w))\n",
    "        grad = gradient_tx.T.dot(pred - gradient_y)\n",
    "        return grad\n",
    "\n",
    "    def calculate_loss(y, loss_tx, loss_w):\n",
    "        \"\"\"compute the cost by negative log likelihood.\"\"\"\n",
    "        pred = sigmoid(loss_tx.dot(loss_w))\n",
    "        loss = y.T.dot(np.log(pred)) + (1 - y).T.dot(np.log(1 - pred))\n",
    "        return np.squeeze(- loss)\n",
    "\n",
    "    weights = initial_w\n",
    "    for _ in range(max_iters):\n",
    "        # get loss and update w.\n",
    "        loss = calculate_loss(y, tx, weights)\n",
    "        print(loss)\n",
    "        grad = calculate_gradient(y, tx, weights)\n",
    "        weights = weights - gamma * grad\n",
    "    return (weights, loss)"
   ]
  },
  {
   "cell_type": "markdown",
   "metadata": {},
   "source": [
    "# MAIN RUN"
   ]
  },
  {
   "cell_type": "code",
   "execution_count": null,
   "metadata": {},
   "outputs": [],
   "source": [
    "from proj1_helpers import *\n",
    "import itertools\n",
    "%matplotlib inline\n",
    "import numpy as np\n",
    "import matplotlib.pyplot as plt\n",
    "%load_ext autoreload\n",
    "%autoreload 2"
   ]
  },
  {
   "cell_type": "code",
   "execution_count": null,
   "metadata": {},
   "outputs": [],
   "source": [
    "(y, tx, ids) = (np.array(x) for x in load_csv_data(\"data/train.csv\"))"
   ]
  },
  {
   "cell_type": "markdown",
   "metadata": {},
   "source": [
    "We quickly saw that the data is split into 4 categories, according to the `PRI_jet_num` column. We split according to these categories"
   ]
  },
  {
   "cell_type": "code",
   "execution_count": null,
   "metadata": {},
   "outputs": [],
   "source": [
    "CAT_COL = 22\n",
    "NUM_CATEGORIES = 4\n",
    "rows_per_cat = np.array([np.where(tx[:,CAT_COL] == c)[0] for c in range(NUM_CATEGORIES)])"
   ]
  },
  {
   "cell_type": "code",
   "execution_count": null,
   "metadata": {},
   "outputs": [],
   "source": [
    "    # this represents, for each category, which column contain at least one unknown (-999) value\n",
    "    unknown_cols = [set(np.where(tx[np.where(tx[:, CAT_COL] == c)[0], :] == -999)[1]) for c in range(NUM_CATEGORIES)]"
   ]
  },
  {
   "cell_type": "code",
   "execution_count": null,
   "metadata": {},
   "outputs": [],
   "source": [
    "for i, (rows, cols) in enumerate(zip(rows_per_cat, unknown_cols)):\n",
    "    percentages = np.asarray([len(np.where(tx[rows, i] == -999)[0]) \\\n",
    "                             /len(rows) for i in cols]) * 100\n",
    "    print(\"\\nCATEGORY {}:\".format(i))\n",
    "    for col, perc in zip(cols, percentages):\n",
    "        print(\"Col {} has {}% of unknown\".format(col, perc))"
   ]
  },
  {
   "cell_type": "markdown",
   "metadata": {},
   "source": [
    "Thus, for every category, any column (except 0) that has any unknown value has only unknown values. This can be explained by the fact that some fields might not be relevant to a certain category, and thus filled with \"NaN\", or -999\n",
    "\n",
    "From now on, for all categories, we only keep columns with values different that -999"
   ]
  },
  {
   "cell_type": "code",
   "execution_count": null,
   "metadata": {},
   "outputs": [],
   "source": [
    "for cat in unknown_cols:\n",
    "    cat.remove(0)"
   ]
  },
  {
   "cell_type": "markdown",
   "metadata": {},
   "source": [
    "We remove columns PHI, as they are identically distributed and provide no real meaning.\n",
    "We also remove row 22, as data is now split according to it.\n",
    "As categories 2 and 3 are basically the same, we consider them as identical"
   ]
  },
  {
   "cell_type": "code",
   "execution_count": null,
   "metadata": {},
   "outputs": [],
   "source": [
    "phi_cols = [15, 18, 20, 25, 28]\n",
    "columns_to_remove = [np.unique(np.concatenate((list(unknown), [CAT_COL], phi_cols))) for unknown in unknown_cols]\n",
    "columns_to_remove = columns_to_remove[:-1]\n",
    "NUM_CATEGORIES = 3\n",
    "rows_per_cat[2] = np.unique(np.concatenate((rows_per_cat[2],rows_per_cat[3])))\n",
    "rows_per_cat = rows_per_cat[:-1]"
   ]
  },
  {
   "cell_type": "code",
   "execution_count": null,
   "metadata": {},
   "outputs": [],
   "source": [
    "tx_by_cat = [tx[rows] for rows in rows_per_cat]\n",
    "y_by_cat = [y[rows] for rows in rows_per_cat]"
   ]
  },
  {
   "cell_type": "markdown",
   "metadata": {},
   "source": [
    "## Data cleaning"
   ]
  },
  {
   "cell_type": "code",
   "execution_count": null,
   "metadata": {},
   "outputs": [],
   "source": [
    "tx_by_cat = [np.delete(tx_by_cat[cat], np.array(columns_to_remove[cat], dtype=int), axis=1) for cat in range(NUM_CATEGORIES)]"
   ]
  },
  {
   "cell_type": "code",
   "execution_count": null,
   "metadata": {},
   "outputs": [],
   "source": [
    "# Replacing remaining NaN by the average value of the column for the category\n",
    "for cat in tx_by_cat:\n",
    "    first_col = cat[:,0]\n",
    "    first_col[first_col == -999] = np.mean(first_col[first_col != -999])"
   ]
  },
  {
   "cell_type": "markdown",
   "metadata": {},
   "source": [
    "## Features engineering"
   ]
  },
  {
   "cell_type": "code",
   "execution_count": null,
   "metadata": {},
   "outputs": [],
   "source": [
    "from implementations import *"
   ]
  },
  {
   "cell_type": "code",
   "execution_count": null,
   "metadata": {},
   "outputs": [],
   "source": [
    "from top_features import top_features"
   ]
  },
  {
   "cell_type": "code",
   "execution_count": null,
   "metadata": {},
   "outputs": [],
   "source": [
    "tx_by_cat[0][:,-1]"
   ]
  },
  {
   "cell_type": "code",
   "execution_count": null,
   "metadata": {},
   "outputs": [],
   "source": [
    "top_feat_by_cat, other_feat_by_cat = top_features(tx_by_cat,y_by_cat, 5)"
   ]
  },
  {
   "cell_type": "code",
   "execution_count": null,
   "metadata": {},
   "outputs": [],
   "source": []
  },
  {
   "cell_type": "code",
   "execution_count": 1,
   "metadata": {},
   "outputs": [
    {
     "name": "stdout",
     "output_type": "stream",
     "text": [
      "Top features for category 0: [1 7 4 9 2]\n",
      "Top features for category 1: [0 2 1 8 9]\n",
      "Top features for category 2: [0 2 4 6 5]\n",
      "Computing features augmentation\n",
      "Building multinomial feature matrix\n",
      "Multinomial partition for (2,5)\n",
      "Multinomial partition for (3,5)\n",
      "Multinomial partition for (4,5)\n",
      "Multinomial partition for (5,5)\n",
      "Multinomial partition for (6,5)\n",
      "Multinomial partition for (7,5)\n",
      "Building multinomial feature matrix\n",
      "Multinomial partition for (2,5)\n",
      "Multinomial partition for (3,5)\n",
      "Multinomial partition for (4,5)\n",
      "Multinomial partition for (5,5)\n",
      "Multinomial partition for (6,5)\n",
      "Multinomial partition for (7,5)\n",
      "Multinomial partition for (8,5)\n",
      "Multinomial partition for (9,5)\n",
      "Multinomial partition for (10,5)\n",
      "Building multinomial feature matrix\n",
      "Multinomial partition for (2,5)\n",
      "Multinomial partition for (3,5)\n",
      "Multinomial partition for (4,5)\n",
      "Multinomial partition for (5,5)\n",
      "Multinomial partition for (6,5)\n",
      "Multinomial partition for (7,5)\n",
      "Multinomial partition for (8,5)\n",
      "Multinomial partition for (9,5)\n",
      "Multinomial partition for (10,5)\n",
      "Computing weights\n",
      "Loading test data\n",
      "Computing predictions\n"
     ]
    }
   ],
   "source": [
    "from proj1_helpers import *\n",
    "import itertools\n",
    "from implementations import *\n",
    "from top_features import top_features\n",
    "import numpy as np\n",
    "\n",
    "#load the data\n",
    "(y, tx, ids) = (np.array(x) for x in load_csv_data(\"data/train.csv\"))\n",
    "\n",
    "#We quickly saw that the data is split into 4 categories, \n",
    "# according to the `PRI_jet_num` column. \n",
    "# We split according to these categories\n",
    "\n",
    "CAT_COL = 22\n",
    "NUM_CATEGORIES = 4\n",
    "rows_per_cat = np.array([np.where(tx[:,CAT_COL] == c)[0] for c in range(NUM_CATEGORIES)])\n",
    "\n",
    "# this represents, for each category, which column contain at least one unknown (-999) value\n",
    "unknown_cols = [set(np.where(tx[np.where(tx[:, CAT_COL] == c)[0], :] == -999)[1]) for c in range(NUM_CATEGORIES)]\n",
    "\n",
    "# for i, (rows, cols) in enumerate(zip(rows_per_cat, unknown_cols)):\n",
    "#     percentages = np.asarray([len(np.where(tx[rows, i] == -999)[0]) \\\n",
    "#                              /len(rows) for i in cols]) * 100\n",
    "#     print(\"\\nCATEGORY {}:\".format(i))\n",
    "#     for col, perc in zip(cols, percentages):\n",
    "#         print(\"Col {} has {}% of unknown\".format(col, perc))\n",
    "\n",
    "\n",
    "# Thus, for every category, any column (except 0) that has any unknown value has only unknown values. \n",
    "# This can be explained by the fact that some fields might not be relevant to a certain category, and thus filled with \"NaN\", or -999\n",
    "# From now on, for all categories, we only keep columns with values different that -999\n",
    "\n",
    "# remove col 0 from columns with unknown values.\n",
    "# We'll deal with that later\n",
    "for cat in unknown_cols:\n",
    "    cat.remove(0)\n",
    "\n",
    "#We remove columns PHI, as they are identically distributed and provide no real meaning.\n",
    "# We also remove row 22, as data is now split according to it.\n",
    "# As categories 2 and 3 are basically the same, we consider them as identical\n",
    "\n",
    "phi_cols = [15, 18, 20, 25, 28]\n",
    "columns_to_remove = [np.unique(np.concatenate((list(unknown), [CAT_COL], phi_cols))) for unknown in unknown_cols]\n",
    "columns_to_remove = columns_to_remove[:-1]\n",
    "\n",
    "NUM_CATEGORIES = 3\n",
    "rows_per_cat[2] = np.unique(np.concatenate((rows_per_cat[2],rows_per_cat[3])))\n",
    "rows_per_cat = rows_per_cat[:-1]\n",
    "\n",
    "\n",
    "## Data cleaning\n",
    "tx_by_cat = [tx[rows] for rows in rows_per_cat]\n",
    "y_by_cat = [y[rows] for rows in rows_per_cat]\n",
    "\n",
    "tx_by_cat = [np.delete(tx_by_cat[cat], np.array(columns_to_remove[cat], dtype=int), axis=1) for cat in range(NUM_CATEGORIES)]\n",
    "\n",
    "# Replacing remaining NaN by the average value of the column for the category\n",
    "for cat in tx_by_cat:\n",
    "    first_col = cat[:,0]\n",
    "    first_col[first_col == -999] = np.mean(first_col[first_col != -999])\n",
    "\n",
    "top_feat_by_cat, other_feat_by_cat = top_features(tx_by_cat,y_by_cat, 6)\n",
    "\n",
    "degrees = [7,10,10]\n",
    "augmented_tx_by_cat = []\n",
    "print(\"Computing features augmentation\")\n",
    "for cat, deg, top_feat, other_feat in zip(tx_by_cat, degrees, top_feat_by_cat, other_feat_by_cat):\n",
    "    augmented_tx_by_cat.append(build_multinomial(cat, deg, top_feat, other_feat))\n",
    "    \n",
    "lambdas = [0.001, 0.003, 0.01]\n",
    "weights_by_cat = []\n",
    "print(\"Computing weights\")\n",
    "for lamb, tx_cat, y_cat in zip(lambdas, augmented_tx_by_cat, y_by_cat):\n",
    "    weights_by_cat.append(ridge_regression(y_cat, tx_cat, lamb))\n",
    "\n",
    "print(\"Loading test data\")\n",
    "(y_test, tx_test, ids_test) = (np.array(x) for x in load_csv_data(\"data/test.csv\"))\n",
    "\n",
    "print(\"Computing predictions\")\n",
    "rows_per_cat_test = [\n",
    "    np.array([np.where(tx[:,CAT_COL] == 0)[0]]),\n",
    "    np.array([np.where(tx[:,CAT_COL] == 1)[0]]),\n",
    "    np.array([np.where(tx[:,CAT_COL] >= 2)[0]])\n",
    "]\n"
   ]
  },
  {
   "cell_type": "code",
   "execution_count": 7,
   "metadata": {},
   "outputs": [
    {
     "ename": "ValueError",
     "evalue": "setting an array element with a sequence.",
     "output_type": "error",
     "traceback": [
      "\u001b[0;31m---------------------------------------------------------------------------\u001b[0m",
      "\u001b[0;31mValueError\u001b[0m                                Traceback (most recent call last)",
      "\u001b[0;32m<ipython-input-7-36f4e70572d1>\u001b[0m in \u001b[0;36m<module>\u001b[0;34m\u001b[0m\n\u001b[1;32m      7\u001b[0m \u001b[0;34m\u001b[0m\u001b[0m\n\u001b[1;32m      8\u001b[0m \u001b[0;32mfor\u001b[0m \u001b[0mi\u001b[0m \u001b[0;32min\u001b[0m \u001b[0mrange\u001b[0m\u001b[0;34m(\u001b[0m\u001b[0mlen\u001b[0m\u001b[0;34m(\u001b[0m\u001b[0mweights_by_cat\u001b[0m\u001b[0;34m)\u001b[0m\u001b[0;34m)\u001b[0m\u001b[0;34m:\u001b[0m\u001b[0;34m\u001b[0m\u001b[0m\n\u001b[0;32m----> 9\u001b[0;31m     \u001b[0my_predict\u001b[0m\u001b[0;34m[\u001b[0m\u001b[0mnp\u001b[0m\u001b[0;34m.\u001b[0m\u001b[0mwhere\u001b[0m\u001b[0;34m(\u001b[0m\u001b[0mcategory_col\u001b[0m \u001b[0;34m==\u001b[0m \u001b[0mi\u001b[0m\u001b[0;34m)\u001b[0m\u001b[0;34m[\u001b[0m\u001b[0;36m0\u001b[0m\u001b[0;34m]\u001b[0m\u001b[0;34m]\u001b[0m \u001b[0;34m=\u001b[0m \u001b[0mpredict_labels\u001b[0m\u001b[0;34m(\u001b[0m\u001b[0mweights_by_cat\u001b[0m\u001b[0;34m[\u001b[0m\u001b[0mi\u001b[0m\u001b[0;34m]\u001b[0m\u001b[0;34m,\u001b[0m \u001b[0maugmented_tx_by_cat\u001b[0m\u001b[0;34m[\u001b[0m\u001b[0mi\u001b[0m\u001b[0;34m]\u001b[0m\u001b[0;34m)\u001b[0m\u001b[0;34m\u001b[0m\u001b[0m\n\u001b[0m\u001b[1;32m     10\u001b[0m \u001b[0;34m\u001b[0m\u001b[0m\n\u001b[1;32m     11\u001b[0m \u001b[0mcreate_csv_submission\u001b[0m\u001b[0;34m(\u001b[0m\u001b[0mids_test\u001b[0m\u001b[0;34m,\u001b[0m \u001b[0my_predict\u001b[0m\u001b[0;34m,\u001b[0m \u001b[0;34m'submission.csv'\u001b[0m\u001b[0;34m)\u001b[0m\u001b[0;34m\u001b[0m\u001b[0m\n",
      "\u001b[0;32m/storage/Documents/EPFL/master1/ML/AimeElle/project1/proj1_helpers.py\u001b[0m in \u001b[0;36mpredict_labels\u001b[0;34m(weights, data)\u001b[0m\n\u001b[1;32m     35\u001b[0m \u001b[0;32mdef\u001b[0m \u001b[0mpredict_labels\u001b[0m\u001b[0;34m(\u001b[0m\u001b[0mweights\u001b[0m\u001b[0;34m,\u001b[0m \u001b[0mdata\u001b[0m\u001b[0;34m)\u001b[0m\u001b[0;34m:\u001b[0m\u001b[0;34m\u001b[0m\u001b[0m\n\u001b[1;32m     36\u001b[0m     \u001b[0;34m\"\"\"Generates class predictions given weights, and a test data matrix\"\"\"\u001b[0m\u001b[0;34m\u001b[0m\u001b[0m\n\u001b[0;32m---> 37\u001b[0;31m     \u001b[0my_pred\u001b[0m \u001b[0;34m=\u001b[0m \u001b[0mnp\u001b[0m\u001b[0;34m.\u001b[0m\u001b[0mdot\u001b[0m\u001b[0;34m(\u001b[0m\u001b[0mdata\u001b[0m\u001b[0;34m,\u001b[0m \u001b[0mweights\u001b[0m\u001b[0;34m)\u001b[0m\u001b[0;34m\u001b[0m\u001b[0m\n\u001b[0m\u001b[1;32m     38\u001b[0m     \u001b[0my_pred\u001b[0m\u001b[0;34m[\u001b[0m\u001b[0mnp\u001b[0m\u001b[0;34m.\u001b[0m\u001b[0mwhere\u001b[0m\u001b[0;34m(\u001b[0m\u001b[0my_pred\u001b[0m \u001b[0;34m<=\u001b[0m \u001b[0;36m0\u001b[0m\u001b[0;34m)\u001b[0m\u001b[0;34m]\u001b[0m \u001b[0;34m=\u001b[0m \u001b[0;34m-\u001b[0m\u001b[0;36m1\u001b[0m\u001b[0;34m\u001b[0m\u001b[0m\n\u001b[1;32m     39\u001b[0m     \u001b[0my_pred\u001b[0m\u001b[0;34m[\u001b[0m\u001b[0mnp\u001b[0m\u001b[0;34m.\u001b[0m\u001b[0mwhere\u001b[0m\u001b[0;34m(\u001b[0m\u001b[0my_pred\u001b[0m \u001b[0;34m>\u001b[0m \u001b[0;36m0\u001b[0m\u001b[0;34m)\u001b[0m\u001b[0;34m]\u001b[0m \u001b[0;34m=\u001b[0m \u001b[0;36m1\u001b[0m\u001b[0;34m\u001b[0m\u001b[0m\n",
      "\u001b[0;31mValueError\u001b[0m: setting an array element with a sequence."
     ]
    }
   ],
   "source": [
    "y_predict = np.zeros(tx_test.shape[0])\n",
    "\n",
    "category_col = tx_test[:,CAT_COL]\n",
    "#Merge categories 2 and 3 into one single category (2)\n",
    "category_col[np.where(category_col == 3)] = 2\n",
    "\n",
    "\n",
    "for i in range(len(weights_by_cat)):\n",
    "    y_predict[np.where(category_col == i)[0]] = predict_labels(weights_by_cat[i], augmented_tx_by_cat[i])\n",
    "\n",
    "create_csv_submission(ids_test, y_predict, 'submission.csv')"
   ]
  },
  {
   "cell_type": "code",
   "execution_count": 8,
   "metadata": {},
   "outputs": [
    {
     "data": {
      "text/plain": [
       "array([0., 1., 0., 0., 2., 0., 1., 2., 0., 2., 1., 0., 0., 2., 0., 0., 0.,\n",
       "       0., 1., 0.])"
      ]
     },
     "execution_count": 8,
     "metadata": {},
     "output_type": "execute_result"
    }
   ],
   "source": [
    "category_col[:20]"
   ]
  },
  {
   "cell_type": "code",
   "execution_count": 15,
   "metadata": {},
   "outputs": [
    {
     "data": {
      "text/plain": [
       "(array([ 1.95791613e-03, -3.92725999e-02,  6.98246874e-03,  9.29787588e-03,\n",
       "        -4.91003978e-02, -2.78781921e-02,  9.33094624e-03, -3.33310675e-02,\n",
       "        -2.23597544e-02,  3.33616019e-02, -6.98663777e-02,  8.41814316e-03,\n",
       "         1.83615335e-02,  7.88585091e-04,  7.92280924e-03,  3.03435648e-02,\n",
       "        -7.82514440e-02,  6.11595306e-02, -6.87073268e-02,  1.03043774e-01,\n",
       "        -1.14888355e-01, -7.13085488e-05, -1.02401327e-02, -9.23528543e-04,\n",
       "        -9.40260141e-04,  3.39164597e-04, -3.85521351e-02, -6.62844924e-02,\n",
       "         3.40491930e-03,  2.43916375e-02,  6.81671805e-02, -3.50142560e-02,\n",
       "         9.56237581e-02,  8.68950239e-04,  3.16992139e-03, -7.25691207e-04,\n",
       "         7.51350097e-03,  2.16282526e-02, -2.97410650e-03, -4.80201325e-03,\n",
       "         4.50313581e-02,  3.02005130e-03,  4.26660313e-02,  6.62263526e-02,\n",
       "         8.70248079e-02,  3.02601888e-02,  6.72824235e-02, -8.23553867e-02,\n",
       "         2.16265705e-01,  1.03098001e-01,  5.92871453e-02,  1.20215911e-01,\n",
       "         2.52094705e-03, -5.55671085e-03,  9.74727268e-04, -9.04978695e-04,\n",
       "         8.14793085e-07, -8.37043763e-05,  1.17354445e-04,  3.95268902e-06,\n",
       "        -4.14235345e-06,  8.21499572e-03,  2.66176072e-03,  1.03250565e-03,\n",
       "         7.70289022e-05, -8.95777083e-03,  5.73742194e-04, -4.20020791e-04,\n",
       "         1.11969447e-05, -2.30059360e-05,  1.31297351e-05, -5.42885074e-02,\n",
       "         3.20329106e-02,  1.14756757e-02, -1.30154469e-02, -5.74888540e-02,\n",
       "         6.41807812e-03,  9.16150177e-03, -2.10072308e-03, -7.85406715e-04,\n",
       "        -1.00949511e-03,  1.61186017e-01,  3.22524061e-02, -8.78765939e-02,\n",
       "        -2.87619892e-03, -4.42024759e-03,  2.46766170e-03, -3.80016456e-05,\n",
       "         2.76138821e-05,  2.53100323e-05, -1.98718212e-05, -1.45568188e-03,\n",
       "         3.17584570e-02, -3.78812952e-03,  5.54892845e-02,  4.37012874e-02,\n",
       "         2.98397085e-03, -1.38321950e-02, -3.78028658e-02, -5.62000145e-02,\n",
       "         1.27808658e-02,  8.34631016e-02,  7.71748746e-02,  4.02804741e-03,\n",
       "        -9.46539641e-02, -1.33885737e-01, -5.58874778e-02,  1.45800152e-04,\n",
       "        -1.97760931e-03,  2.26780614e-03,  6.03548927e-04,  9.69494896e-02,\n",
       "        -6.18768867e-02,  1.42812501e-01, -7.86637746e-02, -1.51171040e-01,\n",
       "        -5.61035974e-02, -1.37248259e-03,  3.53145991e-03,  1.58700725e-03,\n",
       "         6.36114590e-04, -2.24058560e-05,  5.05321936e-05, -1.75916062e-05,\n",
       "        -6.56087707e-06, -3.84546388e-07, -2.32499987e-09,  5.97528061e-08,\n",
       "        -1.06515279e-06, -3.11488051e-08,  2.80677759e-08,  3.65933086e-05,\n",
       "         1.05350037e-04,  2.15116625e-06, -2.07815594e-06, -1.20883537e-04,\n",
       "        -2.98084454e-06,  5.94773234e-06, -1.24075891e-08,  8.49522383e-08,\n",
       "        -6.76984375e-08, -3.51347417e-03, -5.99884818e-03, -5.42548790e-04,\n",
       "         6.58900400e-05,  8.25567102e-03, -8.67675903e-04, -1.69388635e-04,\n",
       "        -1.40089571e-05,  8.38928725e-06,  1.34102598e-07,  5.26237219e-03,\n",
       "         2.29375364e-04,  1.60563822e-04,  7.91833015e-06,  6.80779683e-06,\n",
       "        -1.15251757e-05,  4.50059460e-09,  3.27366826e-08, -1.53592208e-07,\n",
       "         8.31395534e-08,  6.71147756e-02,  3.92412664e-02,  3.02598557e-03,\n",
       "         3.12551516e-03, -3.89735983e-02, -9.65453440e-03, -3.38659087e-03,\n",
       "        -4.04638298e-04,  9.45635998e-04,  2.11734588e-04,  1.58649639e-02,\n",
       "        -2.47039455e-02, -4.46509983e-03,  2.70238340e-03,  6.41975392e-04,\n",
       "         5.00548717e-04,  3.27582950e-05, -2.47066806e-05,  1.14360614e-05,\n",
       "        -2.10804122e-06, -1.25564586e-01, -1.57090488e-02,  4.16115093e-02,\n",
       "         2.03390660e-03,  2.27271972e-03, -1.73160777e-03,  4.75973349e-05,\n",
       "        -2.23785704e-05, -4.10715824e-05,  2.31014862e-05,  3.49581957e-07,\n",
       "        -6.83934977e-07,  9.79484806e-08,  2.79168011e-07, -8.81702529e-08,\n",
       "        -1.36789931e-02,  2.77791753e-02, -3.20714133e-02, -6.42896256e-02,\n",
       "         6.10837219e-02,  8.21460559e-02,  5.89265823e-02,  1.98480773e-02,\n",
       "        -8.89451820e-04, -3.66665421e-03,  6.68271044e-02,  2.48587347e-02,\n",
       "        -2.30386643e-02,  4.85586154e-02,  4.56978481e-02, -3.65574667e-03,\n",
       "         1.27282120e-03,  6.56750447e-05, -1.00349995e-03,  6.77715553e-06,\n",
       "         9.90599474e-02,  1.37997266e-01, -2.79926280e-01,  6.15143181e-02,\n",
       "         8.02837904e-02,  4.00961968e-02,  4.03523149e-04,  4.46630334e-04,\n",
       "        -1.59385564e-03, -6.77253070e-04, -1.73294299e-05,  3.91427482e-05,\n",
       "        -2.83117738e-05,  3.13938403e-06,  2.51224619e-06,  5.62711670e-02,\n",
       "        -1.03219128e-01, -2.02435373e-01,  5.45962046e-02,  7.40813143e-02,\n",
       "         1.72765679e-02,  6.34208860e-05, -1.16750592e-03, -1.41819714e-03,\n",
       "        -2.18894790e-04,  5.63019690e-06, -2.32839433e-05,  5.03124407e-06,\n",
       "         9.64360360e-06,  3.49299110e-07,  5.13404296e-08, -4.75390663e-08,\n",
       "        -6.79841727e-09,  4.33631828e-08, -2.91748542e-08,  7.54420324e-10,\n",
       "        -1.55191821e-11,  4.94849890e-09, -1.08342505e-09,  9.49427873e-11,\n",
       "         1.18148391e-11, -5.61869667e-07,  4.48617898e-07, -5.31212393e-09,\n",
       "        -8.50131488e-09,  4.35454821e-07,  2.55983028e-08, -1.78359031e-08,\n",
       "         2.18698164e-10, -5.26669325e-10,  1.34424685e-10,  2.64873527e-05,\n",
       "        -5.43578308e-05, -1.20969879e-06,  1.06681440e-06, -3.52300357e-05,\n",
       "        -1.23667082e-06,  8.02142724e-07, -2.36842236e-08,  3.11849729e-08,\n",
       "        -9.97144125e-10,  4.77293064e-05,  1.34423090e-06, -2.58122419e-06,\n",
       "        -3.09969890e-08, -5.30446216e-08,  4.39461665e-08, -3.94859157e-10,\n",
       "         3.47135928e-10,  4.86469221e-10, -1.84308571e-10, -4.69693752e-04,\n",
       "         2.65582086e-03,  2.05652773e-04, -5.42555390e-05,  5.10921743e-04,\n",
       "         1.85983002e-04,  1.92402885e-05,  9.02270768e-06, -2.85345426e-06,\n",
       "        -3.11551766e-07, -3.48446251e-03,  1.77354928e-04,  4.73049643e-05,\n",
       "         5.71890695e-06, -3.66510450e-06,  9.23520020e-07,  5.39046533e-08,\n",
       "        -6.10254119e-08,  2.41964255e-08, -1.16669633e-08, -1.35019880e-03,\n",
       "        -1.78865901e-04, -3.84052116e-06, -1.14407123e-05,  4.32787917e-06,\n",
       "         2.62463775e-06, -1.38428775e-07,  2.22003670e-07, -2.27109671e-09,\n",
       "        -3.74031117e-08, -2.32077059e-10,  1.34918905e-09, -1.08734948e-09,\n",
       "        -1.33697672e-10,  1.21017604e-10,  2.54196386e-03, -3.93273217e-02,\n",
       "        -5.55362254e-03,  7.75722285e-04, -7.51776774e-04,  5.81087311e-03,\n",
       "        -2.01295982e-03, -1.18376582e-04, -2.22807956e-04,  1.83018388e-05,\n",
       "        -1.62363696e-02,  1.20826064e-03,  7.17914114e-03,  2.81818443e-04,\n",
       "        -3.20314354e-04, -2.19536130e-04,  7.47926923e-06, -1.49875071e-05,\n",
       "         2.10623074e-06,  1.10134281e-06,  2.58908109e-02,  1.33074049e-02,\n",
       "        -3.60151594e-03, -9.27536977e-04, -3.46873927e-04,  4.17641456e-05,\n",
       "        -2.69673790e-05,  1.77945599e-05, -2.37499144e-06, -6.58797908e-07,\n",
       "        -7.49549402e-08,  1.09332843e-07, -5.26290704e-08, -5.70529703e-09,\n",
       "         5.38617959e-09,  2.16106812e-02,  2.62091018e-03, -7.81923267e-03,\n",
       "        -5.43622084e-04, -4.75084221e-04,  4.01393377e-04, -1.96430134e-05,\n",
       "         9.90728948e-06,  1.44860267e-05, -6.96001724e-06, -1.96537189e-07,\n",
       "         3.89951711e-07, -5.24964490e-08, -1.63925833e-07,  4.40139131e-08,\n",
       "        -1.02114590e-09,  1.95061628e-09, -7.02839816e-10, -6.93696051e-10,\n",
       "         5.70260687e-10, -8.04676207e-11, -4.29724250e-02,  2.16345537e-02,\n",
       "         3.69376056e-02,  2.45264332e-03,  6.36759406e-02, -8.07163942e-02,\n",
       "         3.06371141e-02, -1.69373500e-03,  4.18451034e-03, -3.67039731e-04,\n",
       "         6.98208125e-02,  6.19044868e-02, -9.79444001e-02, -2.14113895e-02,\n",
       "        -1.29079753e-03,  3.64726272e-03, -5.50928325e-04,  4.89157340e-04,\n",
       "         7.24622034e-06, -1.83004273e-05,  5.85220638e-02, -7.51474711e-02,\n",
       "         8.52487694e-02, -9.88299028e-03, -1.69591764e-02, -3.29397516e-03,\n",
       "        -1.04691491e-03, -1.85455537e-05,  5.55738121e-04,  4.57414378e-05,\n",
       "        -1.97533214e-05,  1.83538353e-05,  1.56839048e-06, -1.82835956e-06,\n",
       "        -2.26333291e-07,  7.93197905e-02, -5.29469243e-02,  9.35598282e-02,\n",
       "        -2.24378118e-02, -1.65151386e-02, -9.97742110e-03, -2.43209742e-05,\n",
       "         9.74781105e-05,  2.86365383e-04,  2.04666004e-04,  2.60584917e-06,\n",
       "        -1.14348459e-05,  9.73415119e-06,  4.42201770e-07, -1.26378179e-06,\n",
       "         5.29514959e-08, -5.22678204e-08,  2.95525671e-08,  1.63819807e-09,\n",
       "        -1.26333384e-08,  2.17422219e-09, -1.05523297e-01,  9.00308185e-02,\n",
       "         6.50610965e-02, -1.71152358e-02, -1.56918637e-02, -3.69310647e-03,\n",
       "        -5.29607456e-05,  3.64383150e-04,  3.50036157e-04,  5.98359510e-05,\n",
       "         3.46819493e-06,  4.08584740e-06, -2.39547335e-06, -2.66337550e-06,\n",
       "        -4.19226675e-07, -1.84356505e-08, -2.07100396e-08,  1.32383269e-08,\n",
       "        -5.22347889e-09,  7.47823091e-09,  2.15828765e-09,  1.65222561e-11,\n",
       "         4.36533264e-11, -2.54534415e-11,  3.61287016e-11, -3.58484999e-11,\n",
       "         1.27459103e-11, -6.72381267e-12, -6.34505186e-15,  6.10637172e-12,\n",
       "         4.64562045e-12,  1.94769114e-13, -9.78492221e-14, -1.50197812e-09,\n",
       "        -7.19329270e-10, -7.27135071e-11,  2.13148937e-11,  4.16595532e-10,\n",
       "        -1.87580164e-11, -1.21711658e-11, -9.60772360e-13,  5.38154953e-13,\n",
       "         5.42617662e-14,  1.67304301e-07,  6.32925446e-09,  8.32833925e-09,\n",
       "        -1.46049945e-09, -1.11159031e-07, -5.20036859e-10,  4.14276605e-09,\n",
       "         1.24935562e-10, -3.20558166e-11, -2.43140048e-11, -4.86235435e-08,\n",
       "        -6.44771433e-09,  2.60478228e-09, -6.94896433e-11,  2.11682672e-10,\n",
       "        -3.69886370e-11,  6.86701685e-13,  6.93319022e-13, -1.24878315e-12,\n",
       "         1.29307387e-13, -9.78398614e-06,  4.78766278e-06, -2.53832949e-07,\n",
       "         9.30969649e-09,  1.00983779e-05,  2.48254111e-07, -3.71489119e-07,\n",
       "         5.88553914e-09, -3.60792543e-09,  2.17518228e-09,  1.12268805e-06,\n",
       "         4.93555525e-07,  4.54457877e-08,  1.26709745e-09, -1.42588422e-08,\n",
       "        -2.39022620e-09,  4.89158292e-11, -8.27008436e-11,  8.02080993e-11,\n",
       "         1.78953494e-11, -5.14121348e-06, -3.10387436e-07,  2.98743131e-07,\n",
       "         1.22975392e-08,  1.10211794e-08, -5.97495649e-09,  2.79399316e-10,\n",
       "        -3.14526880e-10, -1.35377323e-10,  4.03007872e-11,  1.08305424e-12,\n",
       "        -3.59329442e-12,  2.00288571e-12,  3.28674253e-13, -6.88946570e-14,\n",
       "         3.16636240e-04, -3.08571288e-04, -1.31679048e-05,  2.59054081e-06,\n",
       "        -3.73581480e-04, -2.12913295e-05,  1.28225951e-05, -2.19554583e-06,\n",
       "         5.95030811e-07, -8.34375917e-08,  3.14282535e-04, -3.04139255e-05,\n",
       "        -2.00389006e-05, -7.23946961e-07,  4.36792113e-07,  3.85860068e-07,\n",
       "        -6.20732911e-08,  3.32181939e-08, -5.31763088e-09, -2.02649072e-09,\n",
       "         2.04183371e-04, -3.32048707e-06,  9.92976386e-06, -6.04572156e-07,\n",
       "         2.64986011e-07, -6.14780346e-07,  8.63179338e-09,  4.18951747e-09,\n",
       "        -3.67082470e-09,  8.12096124e-09, -2.99434856e-10,  4.03436062e-10,\n",
       "        -2.20692156e-10,  5.56826159e-11, -3.13429370e-11,  1.76035001e-04,\n",
       "         2.63705426e-05, -7.43278158e-06,  2.34192821e-06, -1.25542961e-06,\n",
       "        -7.44857210e-10,  4.95584687e-08, -7.89919181e-08,  1.72819377e-08,\n",
       "         1.37311339e-09,  3.10105748e-10, -1.08727099e-09,  8.68778802e-10,\n",
       "        -1.06242548e-10, -5.72256416e-12, -2.09718744e-13, -1.46161868e-12,\n",
       "         3.90549133e-12, -2.29965919e-12,  2.11059126e-13, -7.96035910e-15,\n",
       "        -5.51423281e-03,  6.71945298e-03,  7.53258629e-04, -8.64514149e-05,\n",
       "         5.69993552e-03, -2.91875197e-04, -1.11385221e-04,  7.65361255e-05,\n",
       "        -3.66685435e-06,  7.19035547e-07, -8.39435813e-03, -7.34143726e-04,\n",
       "         6.20290349e-04, -6.32033576e-05,  6.87637686e-05, -1.30640047e-05,\n",
       "         2.15904720e-06,  7.18630329e-07, -4.10008019e-07,  8.18797683e-08,\n",
       "         1.49982862e-02, -1.17329349e-04, -2.08992635e-03, -1.89382373e-05,\n",
       "         1.45492539e-05,  6.58568770e-05, -3.30820352e-06,  3.72393952e-06,\n",
       "        -2.37322754e-07, -6.47673628e-07,  2.23290042e-08,  2.03743360e-08,\n",
       "        -1.82503039e-08,  1.06434379e-09,  2.04595054e-09, -9.63188439e-03,\n",
       "        -1.71517620e-03,  1.24290776e-03,  8.87270780e-05,  5.62057050e-05,\n",
       "        -3.84680298e-05,  5.42068051e-06, -3.29573441e-06, -1.56891710e-08,\n",
       "         5.37872090e-07,  3.43365271e-08, -6.08566524e-08,  2.99390377e-08,\n",
       "        -9.90856810e-10, -3.59964065e-09,  2.74451345e-10, -5.50581048e-10,\n",
       "         3.91705818e-10, -1.20870556e-10,  1.55990593e-11,  7.16694407e-12,\n",
       "         1.66887897e-04, -1.08134901e-04,  3.69705472e-04,  5.48193723e-05,\n",
       "         3.17004520e-05, -2.47268714e-05,  2.41813760e-06, -1.63743643e-06,\n",
       "        -1.32493171e-06,  5.12873911e-07,  3.37379528e-08, -6.49531519e-08,\n",
       "         1.69602113e-08,  1.88873874e-08, -3.90360891e-09,  2.50497406e-10,\n",
       "        -6.09729606e-10,  3.83205525e-10,  3.21757799e-11, -9.48345218e-11,\n",
       "         8.63741397e-12,  1.23695018e-12, -2.62785595e-12,  2.13925899e-12,\n",
       "        -7.16222532e-13,  1.64617924e-15,  3.78059096e-14,  8.00516515e-15,\n",
       "         4.24455431e-02, -4.34940812e-02, -9.35164928e-03,  7.37115594e-04,\n",
       "        -5.28756650e-03,  1.01809477e-02, -1.42065049e-03, -3.84999610e-04,\n",
       "        -1.41352353e-04,  8.51222193e-06,  2.05336437e-02,  2.00382071e-02,\n",
       "        -6.41338183e-03,  1.12639670e-03, -1.32601705e-03,  1.77475975e-04,\n",
       "         3.46796685e-05, -4.87078677e-05,  1.23537987e-05, -1.24881269e-06,\n",
       "        -7.76902107e-02, -2.95487679e-02,  2.68567608e-02,  3.53829465e-03,\n",
       "         1.32474333e-03, -1.00688845e-03,  1.95834268e-04, -1.13522179e-04,\n",
       "        -2.31255715e-05,  1.04218106e-05,  1.51612446e-06, -2.77214050e-06,\n",
       "         6.70715432e-07,  9.00176156e-08, -3.49975462e-08, -4.36898231e-02,\n",
       "         1.50914921e-02, -1.85164788e-02,  3.58360731e-04,  2.01617635e-03,\n",
       "         9.20405411e-04,  8.88231139e-05,  4.71321619e-05, -8.14775631e-05,\n",
       "        -1.44742495e-05,  6.71608759e-06, -3.43446057e-06, -1.54334506e-06,\n",
       "         6.85506791e-07,  8.80068084e-08,  3.10127884e-08, -5.67913319e-08,\n",
       "         5.40178539e-09,  1.03766138e-08, -2.72962175e-09, -8.41051208e-11,\n",
       "         3.30771568e-03,  4.77089157e-03, -8.68020421e-03,  3.17060767e-03,\n",
       "         7.92502203e-04,  8.12191247e-04, -2.34582829e-06, -5.13825072e-05,\n",
       "         2.04252698e-06, -1.92881882e-05, -6.56707480e-07,  9.96081779e-07,\n",
       "        -1.75295058e-07, -5.44710605e-07,  1.71230229e-07,  3.93299141e-09,\n",
       "         2.26763912e-09, -4.53319684e-09, -7.65047264e-09,  6.11464122e-09,\n",
       "        -6.97651073e-10, -1.29837555e-10,  5.82472001e-11, -2.56255761e-12,\n",
       "         1.96063671e-11,  1.74559625e-11, -1.20899651e-11,  1.12037271e-12,\n",
       "         1.29536318e-02, -1.56932277e-02, -5.71035593e-03,  1.70158123e-03,\n",
       "         1.46767467e-03,  3.03746767e-04,  2.00493485e-05, -4.62040901e-05,\n",
       "        -3.42066407e-05, -5.94124779e-06, -7.74389198e-07, -4.15556569e-07,\n",
       "         4.34595874e-07,  3.08235834e-07,  6.13898477e-08, -2.50162560e-09,\n",
       "         1.07791379e-08, -2.53967094e-09, -6.75064469e-10, -1.21903306e-09,\n",
       "        -3.96876941e-10,  1.81856964e-11,  9.73314985e-12, -3.33485527e-11,\n",
       "         2.30687738e-12,  6.84162224e-12,  1.52190779e-13,  1.34445379e-12,\n",
       "        -1.57925346e-13,  5.29669446e-14,  1.15775225e-13, -4.18681430e-14,\n",
       "        -3.20383448e-14,  1.51759319e-14, -2.86441994e-15, -7.41772357e-16,\n",
       "        -3.04510663e-02,  4.35698946e-04, -2.72865392e-06,  8.73275983e-09,\n",
       "        -1.50428855e-11,  1.33357425e-14, -4.78919717e-18, -4.43694481e-02,\n",
       "        -1.93022472e-02,  1.58307613e-04, -7.80306205e-07,  2.02903773e-09,\n",
       "        -2.64058245e-12,  1.79253473e-15,  2.70740032e-02, -2.18171733e-03,\n",
       "         5.27420826e-03,  3.87803592e-02, -1.62207252e-02, -2.84587764e-02,\n",
       "         4.02618991e-03,  5.50697531e-03,  1.95839347e-02, -1.03984013e-04,\n",
       "         4.03626327e-07, -1.11278296e-09,  1.74767104e-12, -7.38099625e-15,\n",
       "         1.11521001e-02, -2.31754431e-02, -8.93559365e-03, -7.44458501e-04,\n",
       "         2.54291679e-03,  1.21442402e-04, -2.44307396e-04,  4.55494926e-03,\n",
       "        -9.74796949e-05,  1.09356792e-06, -6.26345514e-09,  1.86979555e-11,\n",
       "        -2.75867077e-14,  1.57733262e-17, -7.67786510e-03,  6.76088440e-03,\n",
       "         1.39358931e-02, -8.50070870e-03, -5.79234662e-03,  8.09558965e-04,\n",
       "         6.50287259e-04, -8.96315227e-03,  1.40145403e-04, -1.46528312e-06,\n",
       "         7.96676512e-09, -1.46556114e-11, -7.54233335e-16,  4.67669805e-18,\n",
       "         1.35581632e-03, -9.12575479e-02, -1.23937003e-02, -8.33904882e-06,\n",
       "        -3.16698777e-10,  3.44425036e-12,  3.52095414e-16,  1.67932668e-03,\n",
       "         9.09272387e-02,  1.24016303e-02,  8.29978655e-06,  2.77350959e-10,\n",
       "        -3.44707919e-12, -3.47569939e-16,  0.00000000e+00,  0.00000000e+00,\n",
       "         0.00000000e+00,  0.00000000e+00,  0.00000000e+00,  0.00000000e+00,\n",
       "         0.00000000e+00]), 0.21572797298540622)"
      ]
     },
     "execution_count": 15,
     "metadata": {},
     "output_type": "execute_result"
    }
   ],
   "source": [
    "weights_by_cat[0]"
   ]
  },
  {
   "cell_type": "code",
   "execution_count": null,
   "metadata": {},
   "outputs": [],
   "source": []
  }
 ],
 "metadata": {
  "kernelspec": {
   "display_name": "Python 3",
   "language": "python",
   "name": "python3"
  },
  "language_info": {
   "codemirror_mode": {
    "name": "ipython",
    "version": 3
   },
   "file_extension": ".py",
   "mimetype": "text/x-python",
   "name": "python",
   "nbconvert_exporter": "python",
   "pygments_lexer": "ipython3",
   "version": "3.6.6"
  }
 },
 "nbformat": 4,
 "nbformat_minor": 2
}
