{
 "cells": [
  {
   "cell_type": "markdown",
   "metadata": {},
   "source": [
    "# Machine Learning in spectroscopy\n",
    "\n",
    "This notebook presents the data that you will be using for the different projects. In this laboratory we are trying to predict different aerosols' concentration from absorption spectra. These spectra represent the infrared light absorption between $4000 [cm^{-1}]$ and $400 [cm^{-1}]$.\n",
    "\n",
    "The aerosolos are collected on polytetrafluoroethylene (PTFE) filters (i.e. commonly known as Teflon) and the spectra are obtained through the Fourier Transorm InfraRed (FTIR) spectroscopy technique.\n",
    "\n",
    "During this project, you will be using the IMPROVE 2015 dataset. IMPROVE is a network of monitoring stations collecting information about atmospheric aerosols all over the United-States but mostly in rural areas. "
   ]
  },
  {
   "cell_type": "code",
   "execution_count": 1,
   "metadata": {},
   "outputs": [],
   "source": [
    "import pandas as pd\n",
    "import matplotlib.pyplot as plt\n",
    "%matplotlib notebook"
   ]
  },
  {
   "cell_type": "markdown",
   "metadata": {},
   "source": [
    "## Data\n",
    "\n",
    "There are three files containing different information. The first, `IMPROVE-2015_spectra.csv`, contains FTIR absorption spectra of Teflon filters taken at different locations. The second, `IMPROVE-2015_measures.csv`, contains the measures of different species.\n",
    "The last one contains the usage of a site, if it has been used for training or testing purposes."
   ]
  },
  {
   "cell_type": "code",
   "execution_count": null,
   "metadata": {},
   "outputs": [],
   "source": [
    "filename_measures = 'data/IMPROVE_2015_measures_cs433.csv'\n",
    "filename_spectra = 'data/IMPROVE_2015_raw_spectra_cs433.csv'\n",
    "filename_tts = 'data/IMPROVE_2015_train_test_split_cs433.csv'\n",
    "filename_sec_deriv = 'data/IMPROVE_2015_2nd-derivative_spectra_cs433.csv'\n",
    "\n",
    "df_meas = pd.read_csv(filename_measures)\n",
    "df_spec = pd.read_csv(filename_spectra)\n",
    "df_tts = pd.read_csv(filename_tts)\n",
    "df_sec_deriv = pd.read_csv(filename_sec_deriv, index_col=0)"
   ]
  },
  {
   "cell_type": "code",
   "execution_count": null,
   "metadata": {},
   "outputs": [],
   "source": [
    "df_spec.head()"
   ]
  },
  {
   "cell_type": "markdown",
   "metadata": {},
   "source": [
    "Each sample is represented by 2784 wavenumber. The sites have a flag at the end of their name, here are their description:\n",
    "\n",
    "- NM: Normal sample – this corresponds to ambient samples whose data (flow, mass, etc… ) have been validated and no abnormalities have been noticed (bulk of the data)\n",
    "- FB: Field blanks samples\n",
    "- QD: Questionable Data – those are samples which were flagged during the validation stage as potential bad samples. If QD samples made it to the FTIR lab, however, it usually means that the validation group changed the flag status from QD to NM after careful consideration. In summary, you can use those samples in your model (no issues observed so far).\n",
    "- QC: Quality Control – Unlike previous flags, this one is specific to our group (FT-IR). QC samples are a group of 10 randomly picked ambient samples measured on a single instrument that were re-run on another spectrometer to provide inter-instrument comparison as part of our weekly quality control procedure. Considering that our instruments show little spectral dissimilarities between them, QC samples can almost be seen as duplicates.\n",
    "\n",
    "The samples present in the dataset correspond to a measures every 3 days in a 24-hour period. If there are some samples missing (i.e. a date when there should be a sample), it means that the measure was not validated."
   ]
  },
  {
   "cell_type": "code",
   "execution_count": null,
   "metadata": {},
   "outputs": [],
   "source": [
    "df_meas.head()"
   ]
  },
  {
   "cell_type": "markdown",
   "metadata": {},
   "source": [
    "The tasks are to predict different species. The relevant columns for your work are the following:\n",
    "\n",
    "- SiteCode: site ID\n",
    "- Date: date of the measure\n",
    "- TOR OC: `OCf:Value`\n",
    "- TOR EC: `ECf:Value`\n",
    "- Dust: `DUSTf:Value`\n",
    "- Sulfate: `SO4f:Value`\n",
    "- Nitrate: `NO3f:Value`\n",
    "- PM2.5: `MF:Value`\n",
    "\n",
    "They all have an uncertainty value with the suffix `:Unc`."
   ]
  },
  {
   "cell_type": "code",
   "execution_count": null,
   "metadata": {},
   "outputs": [],
   "source": [
    "df_tts.head()"
   ]
  },
  {
   "cell_type": "code",
   "execution_count": null,
   "metadata": {},
   "outputs": [],
   "source": [
    "x = df_spec['wavenumber']\n",
    "y = df_spec.loc[:, df_spec.columns != 'wavenumber']\n",
    "\n",
    "plt.figure(figsize=(10,6))\n",
    "plt.plot(x, y)\n",
    "plt.xlabel('Wavenumber')\n",
    "plt.ylabel('Absorption')\n",
    "ax = plt.gca()\n",
    "ax.invert_xaxis()\n",
    "plt.show()"
   ]
  },
  {
   "cell_type": "markdown",
   "metadata": {},
   "source": [
    "## Feature processing\n",
    "\n",
    "### Baseline correction\n",
    "The main feature processing is baseline correction, in other words, removing the background of the signal. There are two different processes that you could use to remove the baseline: smoothing spline and second derivatives. If you are interested in the techniques themselves, you can read about how we applied smoothing spline in our baseline correction process in the paper \"An automated baseline correction protocol for infrared spectra of atmospheric aerosols collected on polytetrafluoroethylene (Teflon) filters\" (Kuzmiakova, Dillner, and Takahama, Atmos. Meas. Tech., 2016).\n",
    "\n",
    "We will provide you the datasets prepared in the case you want to use them in your project.\n",
    "\n",
    "Here are the options used to produce the datasets:\n",
    "\n",
    "- **Second derivative**: second-derivative spectra generated with a symmetric, second-order, 21-point Savitsky-Golay filter (\"Ambient aerosol composition by infrared spectroscopy and partial least-squares in the chemical speciation network: Organic carbon with functional group identification\". Weakly, Takahama, and Dillner, Aeros. Science and Technology. 2016)\n"
   ]
  },
  {
   "cell_type": "code",
   "execution_count": null,
   "metadata": {},
   "outputs": [],
   "source": [
    "# 2nd derivative data plot\n",
    "x = df_sec_deriv['wavenumber']\n",
    "y = df_sec_deriv.iloc[:, df_sec_deriv.columns != 'wavenumber']\n",
    "\n",
    "plt.figure(figsize=(10,6))\n",
    "plt.plot(x, y)\n",
    "plt.xlabel('Wavenumber')\n",
    "plt.ylabel('Absorption')\n",
    "ax = plt.gca()\n",
    "ax.invert_xaxis()\n",
    "plt.show()"
   ]
  },
  {
   "cell_type": "markdown",
   "metadata": {},
   "source": [
    "### Segmentation\n",
    "Another feature processing we found useful particulary during baseline correction is segmentation. We split the spectra into three bins: 4000-2000 $[cm^{-1}]$, 2000-1495 $[cm^{-1}]$, and 2000-680 $[cm^{-1}]$. You may also find the segmentation useful."
   ]
  },
  {
   "cell_type": "markdown",
   "metadata": {},
   "source": [
    "## Current results\n",
    "\n",
    "One of our model is Convolutional Neural Network that uses raw spectra as features and predicts different concentrations, here Organic Carbon."
   ]
  },
  {
   "cell_type": "markdown",
   "metadata": {},
   "source": [
    "![cnn_res](figures/IMPROVE-2015_CNN_Predictions.png)"
   ]
  },
  {
   "cell_type": "markdown",
   "metadata": {},
   "source": [
    "## Evaluation\n",
    "\n",
    "The evaluation will be based on mean error, mean bias, coefficient of determination $r^2$ (i.e. r-squared) and compare against TOR precision. You will have to provide a \"cross plot\" (prediction vs. reference) and also the normalized residual vs. S/N ratio plot to show there isn't a strong or systematic bias at low concentrations."
   ]
  }
 ],
 "metadata": {
  "kernelspec": {
   "display_name": "Python 3",
   "language": "python",
   "name": "python3"
  },
  "language_info": {
   "codemirror_mode": {
    "name": "ipython",
    "version": 3
   },
   "file_extension": ".py",
   "mimetype": "text/x-python",
   "name": "python",
   "nbconvert_exporter": "python",
   "pygments_lexer": "ipython3",
   "version": "3.7.0"
  }
 },
 "nbformat": 4,
 "nbformat_minor": 2
}
