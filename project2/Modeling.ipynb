{
 "cells": [
  {
   "cell_type": "code",
   "execution_count": null,
   "metadata": {},
   "outputs": [],
   "source": [
    "import gc\n",
    "import csv\n",
    "import numpy as np\n",
    "import pandas as pd\n",
    "import matplotlib.pyplot as plt\n",
    "from utils import save_results\n",
    "from models import least_squares, gradient_descent, ridge_regression\n",
    "from preprocessing import (features_expansion, features_selection,\n",
    "                                    get_initial_df, preparation, splitting, build_poly)\n",
    "from visualization import snr_plot, y_compare, ridge_regression_lambdas_visualization\n",
    "from sklearn.model_selection import KFold\n",
    "from sklearn.metrics import r2_score"
   ]
  },
  {
   "cell_type": "code",
   "execution_count": null,
   "metadata": {},
   "outputs": [],
   "source": [
    "OUTPUT_FILE = \"results.csv\""
   ]
  },
  {
   "cell_type": "code",
   "execution_count": null,
   "metadata": {},
   "outputs": [],
   "source": [
    "df_spectra, df_measures, df_tts = get_initial_df('data')\n",
    "meta_cols = ['SiteCode', 'Date', 'flag',\n",
    "             'Latitude', 'Longitude']\n",
    "unc_col = 'DUSTf:Unc'\n",
    "\n",
    "y_col = 'DUSTf:Value'"
   ]
  },
  {
   "cell_type": "code",
   "execution_count": null,
   "metadata": {},
   "outputs": [],
   "source": [
    "merged = preparation(df_spectra, df_measures, meta_cols, unc_col, y_col)\n",
    "%xdel df_spectra\n",
    "%xdel df_measures\n",
    "print(\"Shape: merged: {}\".format(merged.shape))"
   ]
  },
  {
   "cell_type": "code",
   "execution_count": null,
   "metadata": {},
   "outputs": [],
   "source": [
    "tx_train, y_train, _, tx_test, y_test, unc_test = splitting(merged,df_tts,meta_cols,unc_col,y_col)\n",
    "print(\"Shapes:\\n\\ttx_train: {}\\n\\ty_train: {}\\n\\ttx_test: {}\\n\\ty_test: {}\".format(tx_train.shape, y_train.shape, tx_test.shape, y_test.shape))\n",
    "%xdel merged\n",
    "%xdel df_tts"
   ]
  },
  {
   "cell_type": "code",
   "execution_count": null,
   "metadata": {},
   "outputs": [],
   "source": [
    "gd_initial_weights = np.random.rand(tx_train.shape[1])\n",
    "print(gd_initial_weights.shape)"
   ]
  },
  {
   "cell_type": "code",
   "execution_count": null,
   "metadata": {},
   "outputs": [],
   "source": [
    "with open(OUTPUT_FILE, \"w\") as f:\n",
    "    writer = csv.writer(f)\n",
    "    writer.writerow([\"method\", 'w', 'loss'])"
   ]
  },
  {
   "cell_type": "markdown",
   "metadata": {},
   "source": [
    "# No feature preprocessing at all"
   ]
  },
  {
   "cell_type": "markdown",
   "metadata": {},
   "source": [
    "## BASELINE"
   ]
  },
  {
   "cell_type": "code",
   "execution_count": null,
   "metadata": {},
   "outputs": [],
   "source": [
    "loss, weights_baseline = least_squares(tx_train, y_train, tx_test, y_test)\n",
    "save_results(OUTPUT_FILE, \"simple least squares\", weights_baseline, loss)\n",
    "y_compare(tx_test, y_test, weights_baseline, \"ls_y-compare_simple.png\")\n",
    "snr_plot(tx_test, y_test, weights_baseline, unc_test, \"ls_snr_simple.png\")"
   ]
  },
  {
   "cell_type": "markdown",
   "metadata": {},
   "source": [
    "## Gradient descent"
   ]
  },
  {
   "cell_type": "code",
   "execution_count": null,
   "metadata": {},
   "outputs": [],
   "source": [
    "loss, weights_sgd = gradient_descent(tx_train, y_train, gd_initial_weights, 1000, 0.005)\n",
    "save_results(OUTPUT_FILE, \"simple stochastic gradient descent\", weights_baseline, loss)\n",
    "y_compare(tx_test, y_test, weights_sgd, \"GD_y-compare_simple.png\")\n",
    "snr_plot(tx_test, y_test, weights_sgd, unc_test, \"GD_snr_simple.png\")"
   ]
  },
  {
   "cell_type": "markdown",
   "metadata": {},
   "source": [
    "### Visualization of the difference of regression weights"
   ]
  },
  {
   "cell_type": "code",
   "execution_count": null,
   "metadata": {},
   "outputs": [],
   "source": [
    "plt.plot(tx_train.columns, weights_baseline)\n",
    "plt.plot(tx_train.columns, weights_sgd)\n",
    "# plt.yscale('log')\n",
    "plt.show()"
   ]
  },
  {
   "cell_type": "markdown",
   "metadata": {},
   "source": [
    "## Least-Squares with Cross-validation"
   ]
  },
  {
   "cell_type": "code",
   "execution_count": null,
   "metadata": {},
   "outputs": [],
   "source": [
    "kf = KFold(n_splits=10, shuffle=True)\n",
    "losses, ws = [],[]\n",
    "for ind_tr, ind_te in kf.split(tx_train):\n",
    "    loss, w = least_squares(tx_train.iloc[ind_tr].values, \n",
    "                            y_train.iloc[ind_tr].values,\n",
    "                            tx_train.iloc[ind_te].values,\n",
    "                            y_train.iloc[ind_te].values)\n",
    "    losses.append(loss)\n",
    "    ws.append(w)\n",
    "\n",
    "weights_cross = np.mean(np.array(ws), axis=0)\n",
    "loss_cross = np.mean(losses)\n",
    "y_compare(tx_test, y_test, weights_cross, \"ls-cv_y-compare__simple.png\")\n",
    "snr_plot(tx_test, y_test, weights_cross, unc_test, \"ls-cv_snr_simple.png\")\n",
    "save_results(OUTPUT_FILE, \"least-squares with cross-validation\", weights_cross, loss_cross)\n",
    "print(\"Loss is {}\".format(loss_cross))"
   ]
  },
  {
   "cell_type": "markdown",
   "metadata": {},
   "source": [
    "### Visualization of the difference of regression weights"
   ]
  },
  {
   "cell_type": "code",
   "execution_count": null,
   "metadata": {},
   "outputs": [],
   "source": [
    "plt.plot(tx_train.columns, weights_baseline)\n",
    "plt.plot(tx_train.columns, weights_cross)\n",
    "# plt.yscale('log')\n",
    "plt.show()"
   ]
  },
  {
   "cell_type": "markdown",
   "metadata": {},
   "source": [
    "## Ridge regression"
   ]
  },
  {
   "cell_type": "code",
   "execution_count": null,
   "metadata": {},
   "outputs": [],
   "source": [
    "lambdas = np.logspace(-17, -5, 50)\n",
    "losses = []\n",
    "weights = []\n",
    "for lambda_ in lambdas:\n",
    "    loss, w_rr = ridge_regression(tx_train, y_train, tx_test, y_test, lambda_)\n",
    "    losses.append(loss)\n",
    "    weights.append(w_rr)\n",
    "    \n",
    "ridge_regression_lambdas_visualization(lambdas, losses, \"loss_with_lambdas_ridge_regression.png\")\n",
    "best_lambda, best_w = lambdas[np.argmin(losses)], weights[np.argmin(losses)]\n",
    "save_results(OUTPUT_FILE, \"ridge regression with best lambda\",  best_w, np.min(losses))\n",
    "y_compare(tx_test, y_test, best_w, \"rr_y-compare_simple.png\")\n",
    "snr_plot(tx_test, y_test, best_w, unc_test, \"rr_snr_simple.png\")\n",
    "print(\"Loss is {}\".format(np.min(losses)))"
   ]
  },
  {
   "cell_type": "markdown",
   "metadata": {},
   "source": [
    "# Now with augmentation of the data"
   ]
  },
  {
   "cell_type": "markdown",
   "metadata": {},
   "source": [
    "## Expand all features with higher degrees"
   ]
  },
  {
   "cell_type": "code",
   "execution_count": null,
   "metadata": {},
   "outputs": [],
   "source": [
    "power = 7\n",
    "tx_train_expanded = build_poly(tx_train, power)\n",
    "tx_test_expanded = build_poly(tx_test, power)"
   ]
  },
  {
   "cell_type": "code",
   "execution_count": null,
   "metadata": {},
   "outputs": [],
   "source": [
    "# %xdel tx_train\n",
    "# %xdel tx_test\n",
    "%xdel ind_tr\n",
    "%xdel ind_te\n"
   ]
  },
  {
   "cell_type": "markdown",
   "metadata": {},
   "source": [
    "## Least squares augmented"
   ]
  },
  {
   "cell_type": "code",
   "execution_count": null,
   "metadata": {},
   "outputs": [],
   "source": [
    "loss_ls_hd, weights_ls_hd = least_squares(tx_train_expanded, y_train, tx_test_expanded, y_test)\n",
    "save_results(OUTPUT_FILE, \"least squares with features expansion\", weights_ls_hd, loss)\n",
    "y_compare(tx_test_expanded, y_test, weights_ls_hd, \"ls_y-compare_higher-degrees-{}.png\".format(power))\n",
    "snr_plot(tx_test_expanded, y_test, weights_ls_hd, unc_test, \"ls_snr_higher-degrees-{}.png\".format(power))\n",
    "print(\"Loss is {}\".format(loss_ls_hd))"
   ]
  },
  {
   "cell_type": "markdown",
   "metadata": {},
   "source": [
    "## Least squares cross validation augmented"
   ]
  },
  {
   "cell_type": "code",
   "execution_count": null,
   "metadata": {},
   "outputs": [],
   "source": [
    "kf = KFold(n_splits=10, shuffle=True)\n",
    "losses, ws = [],[]\n",
    "for ind_tr, ind_te in kf.split(tx_train):\n",
    "    loss, w = least_squares(tx_train_expanded.iloc[ind_tr].values, \n",
    "                            y_train.iloc[ind_tr].values,\n",
    "                            tx_train_expanded.iloc[ind_te].values,\n",
    "                            y_train.iloc[ind_te].values)\n",
    "    losses.append(loss)\n",
    "    ws.append(w)\n",
    "\n",
    "weights_cross = np.mean(np.array(ws), axis=0)\n",
    "loss_cross = np.mean(losses)\n",
    "y_compare(tx_test_expanded, y_test, weights_cross, \"ls-cv_y-compare_higher-degrees-{}.png\".format(power))\n",
    "snr_plot(tx_test_expanded, y_test, weights_cross, unc_test, \"ls-cv_snr_higher-degrees-{}.png\".format(power))\n",
    "save_results(OUTPUT_FILE, \"ls-cv higher-degrees-{}\".format(power), weights_cross, loss_cross)\n",
    "print(\"Loss is {}\".format(loss_cross))"
   ]
  },
  {
   "cell_type": "markdown",
   "metadata": {},
   "source": [
    "## Ridge regression augmented"
   ]
  },
  {
   "cell_type": "code",
   "execution_count": null,
   "metadata": {},
   "outputs": [],
   "source": [
    "lambdas = np.logspace(-6, -5, 10)\n",
    "losses = []\n",
    "weights = []\n",
    "for lambda_ in lambdas:\n",
    "    loss, w_rr = ridge_regression(tx_train_expanded, y_train, tx_test_expanded, y_test, lambda_)\n",
    "    losses.append(loss)\n",
    "    weights.append(w_rr)\n",
    "    print(loss)\n",
    "    \n",
    "ridge_regression_lambdas_visualization(lambdas, losses, \"loss_with_lambdas_ridge_regression_complex_higher_degree.png\")\n",
    "best_lambda, best_w = lambdas[np.argmin(losses)], weights[np.argmin(losses)]\n",
    "save_results(OUTPUT_FILE, \"ridge regression with best lambda higher degrees\",  best_w, np.min(losses))\n",
    "y_compare(tx_test_expanded, y_test, best_w, \"rr_y-compare_higher-degrees.png\")\n",
    "snr_plot(tx_test_expanded, y_test, best_w, unc_test, \"rr_snr_higher-degrees.png\")\n",
    "print(\"Loss is {}\".format(np.min(losses)))"
   ]
  },
  {
   "cell_type": "markdown",
   "metadata": {},
   "source": [
    "## Expand 30 features with polynomial expansion"
   ]
  },
  {
   "cell_type": "code",
   "execution_count": null,
   "metadata": {},
   "outputs": [],
   "source": [
    "%xdel tx_train_expanded\n",
    "%xdel tx_test_expanded\n",
    "num_features = 30\n",
    "power = 3\n",
    "best_features = features_selection(tx_train, y_train, 30)\n",
    "tx_train_expanded = features_expansion(tx_train, power, best_features)\n",
    "tx_test_expanded = features_expansion(tx_test, power, best_features)"
   ]
  },
  {
   "cell_type": "code",
   "execution_count": null,
   "metadata": {},
   "outputs": [],
   "source": [
    "loss, weights_baseline = least_squares(tx_train_expanded, y_train, tx_test_expanded, y_test)\n",
    "save_results(OUTPUT_FILE, \"least squares with features expansion\", weights_baseline, loss)\n",
    "y_compare(tx_test_expanded, y_test, weights_baseline, \"ls_y-compare_complex-{}-{}.png\".format(num_features, power))\n",
    "snr_plot(tx_test_expanded, y_test, weights_baseline, unc_test, \"ls_snr_complex-{}-{}.png\".format(num_features, power))\n",
    "print(\"Loss is {}\".format(loss))"
   ]
  },
  {
   "cell_type": "code",
   "execution_count": null,
   "metadata": {},
   "outputs": [],
   "source": [
    "lambdas = np.logspace(-20, -3, 10)\n",
    "losses = []\n",
    "weights = []\n",
    "for lambda_ in lambdas:\n",
    "    loss, w_rr = ridge_regression(tx_train_expanded, y_train, tx_test_expanded, y_test, lambda_)\n",
    "    losses.append(loss)\n",
    "    weights.append(w_rr)\n",
    "    print(loss)\n",
    "    \n",
    "ridge_regression_lambdas_visualization(lambdas, losses, \"loss_with_lambdas_ridge_regression_complex.png\")\n",
    "best_lambda, best_w = lambdas[np.argmin(losses)], weights[np.argmin(losses)]\n",
    "save_results(OUTPUT_FILE, \"ridge regression with best lambda complex\",  best_w, np.min(losses))\n",
    "y_compare(tx_test_expanded, y_test, best_w, \"rr_y-compare_complex-{}-{}.png\".format(num_features, power))\n",
    "snr_plot(tx_test_expanded, y_test, best_w, unc_test, \"rr_snr_complex-{}-{}.png\".format(num_features, power))\n",
    "print(\"Loss is {}\".format(np.min(losses)))"
   ]
  },
  {
   "cell_type": "code",
   "execution_count": null,
   "metadata": {},
   "outputs": [],
   "source": []
  }
 ],
 "metadata": {
  "kernelspec": {
   "display_name": "Python 3",
   "language": "python",
   "name": "python3"
  },
  "language_info": {
   "codemirror_mode": {
    "name": "ipython",
    "version": 3
   },
   "file_extension": ".py",
   "mimetype": "text/x-python",
   "name": "python",
   "nbconvert_exporter": "python",
   "pygments_lexer": "ipython3",
   "version": "3.6.6"
  }
 },
 "nbformat": 4,
 "nbformat_minor": 2
}
